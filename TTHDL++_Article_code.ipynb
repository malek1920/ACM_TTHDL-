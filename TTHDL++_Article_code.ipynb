{
  "cells": [
    {
      "cell_type": "markdown",
      "metadata": {
        "id": "view-in-github",
        "colab_type": "text"
      },
      "source": [
        "<a href=\"https://colab.research.google.com/github/malek1920/ACM_TTHDL-/blob/main/TTHDL%2B%2B_Article_code.ipynb\" target=\"_parent\"><img src=\"https://colab.research.google.com/assets/colab-badge.svg\" alt=\"Open In Colab\"/></a>"
      ]
    },
    {
      "cell_type": "code",
      "execution_count": null,
      "metadata": {
        "colab": {
          "base_uri": "https://localhost:8080/"
        },
        "id": "7DaV-prJFwyr",
        "outputId": "6c527733-98b9-4c2f-9d81-832e916e0597"
      },
      "outputs": [
        {
          "name": "stdout",
          "output_type": "stream",
          "text": [
            "Mounted at /content/drive\n"
          ]
        }
      ],
      "source": [
        "from google.colab import drive\n",
        "drive.mount('/content/drive')"
      ]
    },
    {
      "cell_type": "code",
      "execution_count": null,
      "metadata": {
        "id": "AeHNiyw7F69u"
      },
      "outputs": [],
      "source": [
        "import os\n",
        "\n",
        "os.chdir('/content/drive/MyDrive/datasets')"
      ]
    },
    {
      "cell_type": "code",
      "execution_count": null,
      "metadata": {
        "colab": {
          "base_uri": "https://localhost:8080/"
        },
        "id": "d9ru_vM5F-MT",
        "outputId": "5a8239ca-440b-46d3-d9ac-845ea95ff45c"
      },
      "outputs": [
        {
          "name": "stdout",
          "output_type": "stream",
          "text": [
            "Your runtime has 54.8 gigabytes of available RAM\n",
            "\n",
            "You are using a high-RAM runtime!\n"
          ]
        }
      ],
      "source": [
        "from psutil import virtual_memory\n",
        "ram_gb = virtual_memory().total / 1e9\n",
        "print('Your runtime has {:.1f} gigabytes of available RAM\\n'.format(ram_gb))\n",
        "\n",
        "if ram_gb < 20:\n",
        "  print('Not using a high-RAM runtime')\n",
        "else:\n",
        "  print('You are using a high-RAM runtime!')"
      ]
    },
    {
      "cell_type": "code",
      "execution_count": null,
      "metadata": {
        "id": "w2MNR115GCJW"
      },
      "outputs": [],
      "source": [
        "import pandas as pd\n",
        "import tensorflow as tf\n",
        "from sklearn.model_selection import train_test_split\n",
        "from sklearn.model_selection import KFold\n",
        "import numpy as np\n",
        "from sklearn.preprocessing import LabelEncoder\n",
        "from sklearn.metrics import classification_report"
      ]
    },
    {
      "cell_type": "code",
      "execution_count": null,
      "metadata": {
        "id": "xVeNKb4RGGP2"
      },
      "outputs": [],
      "source": [
        "\n",
        "\n",
        "def preprocess_data(X_train, y_train):\n",
        "    # Label encode the categorical features in X_train\n",
        "    label_encoder = LabelEncoder()\n",
        "    X_train_encoded = X_train.copy()\n",
        "    for col in X_train.columns:\n",
        "        if X_train[col].dtype == 'object':\n",
        "            # Fill NaN values with a unique category before encoding\n",
        "            X_train_encoded[col].fillna('unknown', inplace=True)\n",
        "            X_train_encoded[col] = label_encoder.fit_transform(X_train_encoded[col])\n",
        "\n",
        "    # Convert y_train to integers\n",
        "    label_encoder_y = LabelEncoder()\n",
        "    # Fill NaN values in y_train with a unique category before encoding\n",
        "    y_train.fillna('unknown', inplace=True)\n",
        "    y_train_encoded = label_encoder_y.fit_transform(y_train)\n",
        "\n",
        "    return X_train_encoded, y_train_encoded\n",
        "\n",
        "\n",
        "def train_model(X_train, y_train, input_shape, num_classes):\n",
        "    model = tf.keras.Sequential([\n",
        "        tf.keras.layers.Embedding(input_dim=num_classes, output_dim=100, input_length=input_shape),\n",
        "        tf.keras.layers.SimpleRNN(units=64),\n",
        "        tf.keras.layers.Dropout(0.5),\n",
        "        tf.keras.layers.Dense(units=num_classes, activation='linear')  # Reduce the input dimension\n",
        "    ])\n",
        "\n",
        "    model.compile(loss=tf.keras.losses.SparseCategoricalCrossentropy(from_logits=True),\n",
        "                  optimizer='adam',\n",
        "                  metrics=['accuracy'])\n",
        "\n",
        "    # Define early stopping callback\n",
        "    early_stopping = tf.keras.callbacks.EarlyStopping(monitor='loss', patience=3, restore_best_weights=True)\n",
        "\n",
        "    # Train the model with early stopping\n",
        "    model.fit(X_train, y_train, epochs=10, batch_size=256, callbacks=[early_stopping])\n",
        "\n",
        "    return model\n",
        "\n",
        "def calculate_relevance(recommended_items, probabilistic_set):\n",
        "    relevance = []\n",
        "    for user_id, items in recommended_items.items():\n",
        "        relevance_user = [1 if item in probabilistic_set.get(user_id, []) else 0 for item in items]\n",
        "        relevance.append(relevance_user)\n",
        "    return relevance\n",
        "\n",
        "\n",
        "def calculate_dcg(relevance, top_N):\n",
        "    dcg = []\n",
        "    for rel_user in relevance:\n",
        "        dcg_user = rel_user[0]\n",
        "        for i in range(1, min(len(rel_user), top_N)):\n",
        "            dcg_user += rel_user[i] / np.log2(i + 1)\n",
        "        dcg.append(dcg_user)\n",
        "    return dcg\n",
        "\n",
        "\n",
        "def calculate_ndcg(recommended_items, probabilistic_set, top_N):\n",
        "    relevance = calculate_relevance(recommended_items, probabilistic_set)\n",
        "    dcg = calculate_dcg(relevance, top_N)\n",
        "    dcg_max = calculate_dcg([[1] + [0] * (top_N - 1)] * len(relevance), top_N)\n",
        "    ndcg = np.mean(np.array(dcg) / np.array(dcg_max))  # Convert lists to numpy arrays\n",
        "    return ndcg\n",
        "\n",
        "\n",
        "def evaluate_model(model, X_test, y_test, probabilistic_set, recommended_items, top_N):\n",
        "    y_pred = model.predict(X_test)\n",
        "    y_pred_binary = np.argmax(y_pred, axis=1)\n",
        "\n",
        "    for user_id, pred in enumerate(y_pred):\n",
        "        top_items = np.argsort(pred)[-top_N:]\n",
        "        recommended_items[user_id] = top_items\n",
        "        probabilistic_set[user_id] = top_items.tolist()\n",
        "\n",
        "    relevance = calculate_relevance(recommended_items, probabilistic_set)\n",
        "    ndcg = calculate_ndcg(recommended_items, probabilistic_set, top_N)\n",
        "\n",
        "    report = classification_report(y_test, y_pred_binary, output_dict=True)\n",
        "\n",
        "    precision = report['weighted avg']['precision']\n",
        "    recall = report['weighted avg']['recall']\n",
        "    f1 = report['weighted avg']['f1-score']\n",
        "    # Print the evaluation metrics\n",
        "    print('Precision:', precision)\n",
        "    print('Recall:', recall)\n",
        "    print('F1 Score:', f1)\n",
        "    print('NDCG:', ndcg)"
      ]
    },
    {
      "cell_type": "code",
      "execution_count": null,
      "metadata": {
        "colab": {
          "base_uri": "https://localhost:8080/"
        },
        "id": "9RO5UGQSGJ4a",
        "outputId": "403ccae0-c52e-4bc4-e164-ab022c7a6521"
      },
      "outputs": [
        {
          "name": "stdout",
          "output_type": "stream",
          "text": [
            "Lastfm data set\n",
            "Number of classes after class thresholding: 212\n"
          ]
        }
      ],
      "source": [
        "# Read the merged data from the CSV file\n",
        "merged_df = pd.read_csv('enc_fm.csv')\n",
        "print('Lastfm data set')\n",
        "\n",
        "# Define the occurrence threshold\n",
        "occurrence_threshold = 9\n",
        "\n",
        "# Calculate the class occurrences\n",
        "class_counts = merged_df['artistID'].value_counts()\n",
        "\n",
        "# Get the classes below the threshold\n",
        "classes_below_threshold = class_counts[class_counts < occurrence_threshold].index\n",
        "\n",
        "# Merge classes below the threshold into a single class\n",
        "merged_df.loc[merged_df['artistID'].isin(classes_below_threshold), 'artistID'] = 'OtherClass'\n",
        "\n",
        "# Convert the target variable to string\n",
        "merged_df['artistID'] = merged_df['artistID'].astype(str)\n",
        "\n",
        "# Update the number of unique classes\n",
        "num_classes = len(merged_df['artistID'].unique())\n",
        "\n",
        "print(f'Number of classes after class thresholding: {num_classes}')\n"
      ]
    },
    {
      "cell_type": "code",
      "execution_count": null,
      "metadata": {
        "colab": {
          "base_uri": "https://localhost:8080/"
        },
        "id": "1aSKGkliGOyz",
        "outputId": "56b18400-879c-4c13-f448-7348b042506e"
      },
      "outputs": [
        {
          "name": "stdout",
          "output_type": "stream",
          "text": [
            "Fold: 1\n",
            "Epoch 1/10\n",
            "4212/4212 [==============================] - 57s 12ms/step - loss: 0.0405 - accuracy: 0.9974\n",
            "Epoch 2/10\n",
            "4212/4212 [==============================] - 50s 12ms/step - loss: 0.0150 - accuracy: 0.9990\n",
            "Epoch 3/10\n",
            "4212/4212 [==============================] - 51s 12ms/step - loss: 0.0150 - accuracy: 0.9990\n",
            "Epoch 4/10\n",
            "4212/4212 [==============================] - 50s 12ms/step - loss: 0.0149 - accuracy: 0.9990\n",
            "Epoch 5/10\n",
            "4212/4212 [==============================] - 48s 11ms/step - loss: 0.0147 - accuracy: 0.9990\n",
            "Epoch 6/10\n",
            "4212/4212 [==============================] - 50s 12ms/step - loss: 0.0144 - accuracy: 0.9990\n",
            "Epoch 7/10\n",
            "4212/4212 [==============================] - 49s 12ms/step - loss: 0.0141 - accuracy: 0.9990\n",
            "Epoch 8/10\n",
            "4212/4212 [==============================] - 49s 12ms/step - loss: 0.0140 - accuracy: 0.9990\n",
            "Epoch 9/10\n",
            "4212/4212 [==============================] - 49s 12ms/step - loss: 0.0139 - accuracy: 0.9990\n",
            "Epoch 10/10\n",
            "4212/4212 [==============================] - 49s 12ms/step - loss: 0.0137 - accuracy: 0.9990\n",
            "Fold evaluation\n",
            "33694/33694 [==============================] - 83s 2ms/step\n"
          ]
        },
        {
          "name": "stderr",
          "output_type": "stream",
          "text": [
            "/usr/local/lib/python3.10/dist-packages/sklearn/metrics/_classification.py:1344: UndefinedMetricWarning: Precision and F-score are ill-defined and being set to 0.0 in labels with no predicted samples. Use `zero_division` parameter to control this behavior.\n",
            "  _warn_prf(average, modifier, msg_start, len(result))\n",
            "/usr/local/lib/python3.10/dist-packages/sklearn/metrics/_classification.py:1344: UndefinedMetricWarning: Precision and F-score are ill-defined and being set to 0.0 in labels with no predicted samples. Use `zero_division` parameter to control this behavior.\n",
            "  _warn_prf(average, modifier, msg_start, len(result))\n",
            "/usr/local/lib/python3.10/dist-packages/sklearn/metrics/_classification.py:1344: UndefinedMetricWarning: Precision and F-score are ill-defined and being set to 0.0 in labels with no predicted samples. Use `zero_division` parameter to control this behavior.\n",
            "  _warn_prf(average, modifier, msg_start, len(result))\n"
          ]
        },
        {
          "name": "stdout",
          "output_type": "stream",
          "text": [
            "Precision: 0.9979068633847435\n",
            "Recall: 0.9989528834658538\n",
            "F1 Score: 0.998429599455629\n",
            "NDCG: 3.561606311644838\n",
            "Fold: 2\n",
            "Epoch 1/10\n",
            "4212/4212 [==============================] - 50s 11ms/step - loss: 0.0356 - accuracy: 0.9977\n",
            "Epoch 2/10\n",
            "4212/4212 [==============================] - 48s 11ms/step - loss: 0.0158 - accuracy: 0.9990\n",
            "Epoch 3/10\n",
            "4212/4212 [==============================] - 49s 12ms/step - loss: 0.0157 - accuracy: 0.9990\n",
            "Epoch 4/10\n",
            "4212/4212 [==============================] - 49s 12ms/step - loss: 0.0157 - accuracy: 0.9990\n",
            "Epoch 5/10\n",
            "4212/4212 [==============================] - 48s 11ms/step - loss: 0.0155 - accuracy: 0.9990\n",
            "Epoch 6/10\n",
            "4212/4212 [==============================] - 48s 11ms/step - loss: 0.0151 - accuracy: 0.9990\n",
            "Epoch 7/10\n",
            "4212/4212 [==============================] - 47s 11ms/step - loss: 0.0150 - accuracy: 0.9990\n",
            "Epoch 8/10\n",
            "4212/4212 [==============================] - 47s 11ms/step - loss: 0.0147 - accuracy: 0.9990\n",
            "Epoch 9/10\n",
            "4212/4212 [==============================] - 47s 11ms/step - loss: 0.0146 - accuracy: 0.9990\n",
            "Epoch 10/10\n",
            "4212/4212 [==============================] - 48s 11ms/step - loss: 0.0145 - accuracy: 0.9990\n",
            "Fold evaluation\n",
            "33694/33694 [==============================] - 81s 2ms/step\n"
          ]
        },
        {
          "name": "stderr",
          "output_type": "stream",
          "text": [
            "/usr/local/lib/python3.10/dist-packages/sklearn/metrics/_classification.py:1344: UndefinedMetricWarning: Precision and F-score are ill-defined and being set to 0.0 in labels with no predicted samples. Use `zero_division` parameter to control this behavior.\n",
            "  _warn_prf(average, modifier, msg_start, len(result))\n",
            "/usr/local/lib/python3.10/dist-packages/sklearn/metrics/_classification.py:1344: UndefinedMetricWarning: Precision and F-score are ill-defined and being set to 0.0 in labels with no predicted samples. Use `zero_division` parameter to control this behavior.\n",
            "  _warn_prf(average, modifier, msg_start, len(result))\n"
          ]
        },
        {
          "name": "stdout",
          "output_type": "stream",
          "text": [
            "Precision: 0.9980217510311656\n",
            "Recall: 0.9990103858474974\n",
            "F1 Score: 0.9985158237264944\n",
            "NDCG: 3.561606311644838\n"
          ]
        },
        {
          "name": "stderr",
          "output_type": "stream",
          "text": [
            "/usr/local/lib/python3.10/dist-packages/sklearn/metrics/_classification.py:1344: UndefinedMetricWarning: Precision and F-score are ill-defined and being set to 0.0 in labels with no predicted samples. Use `zero_division` parameter to control this behavior.\n",
            "  _warn_prf(average, modifier, msg_start, len(result))\n"
          ]
        }
      ],
      "source": [
        "# Define the probabilistic set for each user\n",
        "probabilistic_set = {}  # A dictionary where keys are user IDs and values are lists of item IDs\n",
        "\n",
        "# Define the recommended items for each user using the model's predictions\n",
        "recommended_items = {}  # A dictionary where keys are user IDs and values are lists of recommended item IDs\n",
        "\n",
        "# Convert merged data to input and target arrays\n",
        "X = merged_df.drop(columns=['artistID'])\n",
        "y = merged_df['artistID']\n",
        "\n",
        "# Perform five-fold cross-validation\n",
        "kf = KFold(n_splits=2, shuffle=True, random_state=42)\n",
        "\n",
        "for fold, (train_index, val_index) in enumerate(kf.split(X)):\n",
        "    print(f\"Fold: {fold + 1}\")\n",
        "\n",
        "    X_train, X_val = X.iloc[train_index], X.iloc[val_index]\n",
        "    y_train, y_val = y.iloc[train_index], y.iloc[val_index]\n",
        "\n",
        "    input_shape = X_train.shape[1]\n",
        "\n",
        "    # Preprocess the data\n",
        "    X_train_encoded, y_train_encoded = preprocess_data(X_train, y_train)\n",
        "    X_val_encoded, y_val_encoded = preprocess_data(X_val, y_val)\n",
        "\n",
        "    # Convert X_train_encoded to a numpy array\n",
        "    X_train_encoded_array = X_train_encoded.values\n",
        "\n",
        "    # Train and evaluate the model for each fold\n",
        "    model = train_model(X_train_encoded_array, y_train_encoded, input_shape, num_classes)\n",
        "    print ('Fold evaluation')\n",
        "    evaluate_model(model, X_val_encoded, y_val_encoded, probabilistic_set, recommended_items, top_N=5)\n"
      ]
    },
    {
      "cell_type": "code",
      "execution_count": null,
      "metadata": {
        "colab": {
          "base_uri": "https://localhost:8080/"
        },
        "id": "ea9LntsZZZPy",
        "outputId": "9317a582-51ef-497b-ac4d-9b850925995e"
      },
      "outputs": [
        {
          "name": "stdout",
          "output_type": "stream",
          "text": [
            "Fold: 1\n",
            "Epoch 1/10\n",
            "4212/4212 [==============================] - 41s 9ms/step - loss: 0.0410 - accuracy: 0.9979\n",
            "Epoch 2/10\n",
            "4212/4212 [==============================] - 38s 9ms/step - loss: 0.0149 - accuracy: 0.9990\n",
            "Epoch 3/10\n",
            "4212/4212 [==============================] - 38s 9ms/step - loss: 0.0149 - accuracy: 0.9990\n",
            "Epoch 4/10\n",
            "4212/4212 [==============================] - 38s 9ms/step - loss: 0.0148 - accuracy: 0.9990\n",
            "Epoch 5/10\n",
            "4212/4212 [==============================] - 38s 9ms/step - loss: 0.0144 - accuracy: 0.9990\n",
            "Epoch 6/10\n",
            "4212/4212 [==============================] - 38s 9ms/step - loss: 0.0143 - accuracy: 0.9990\n",
            "Epoch 7/10\n",
            "4212/4212 [==============================] - 38s 9ms/step - loss: 0.0140 - accuracy: 0.9990\n",
            "Epoch 8/10\n",
            "4212/4212 [==============================] - 38s 9ms/step - loss: 0.0139 - accuracy: 0.9990\n",
            "Epoch 9/10\n",
            "4212/4212 [==============================] - 38s 9ms/step - loss: 0.0137 - accuracy: 0.9990\n",
            "Epoch 10/10\n",
            "4212/4212 [==============================] - 38s 9ms/step - loss: 0.0136 - accuracy: 0.9990\n",
            "Fold evaluation\n",
            "33694/33694 [==============================] - 75s 2ms/step\n"
          ]
        },
        {
          "name": "stderr",
          "output_type": "stream",
          "text": [
            "/usr/local/lib/python3.10/dist-packages/sklearn/metrics/_classification.py:1344: UndefinedMetricWarning: Precision and F-score are ill-defined and being set to 0.0 in labels with no predicted samples. Use `zero_division` parameter to control this behavior.\n",
            "  _warn_prf(average, modifier, msg_start, len(result))\n",
            "/usr/local/lib/python3.10/dist-packages/sklearn/metrics/_classification.py:1344: UndefinedMetricWarning: Precision and F-score are ill-defined and being set to 0.0 in labels with no predicted samples. Use `zero_division` parameter to control this behavior.\n",
            "  _warn_prf(average, modifier, msg_start, len(result))\n",
            "/usr/local/lib/python3.10/dist-packages/sklearn/metrics/_classification.py:1344: UndefinedMetricWarning: Precision and F-score are ill-defined and being set to 0.0 in labels with no predicted samples. Use `zero_division` parameter to control this behavior.\n",
            "  _warn_prf(average, modifier, msg_start, len(result))\n"
          ]
        },
        {
          "name": "stdout",
          "output_type": "stream",
          "text": [
            "Precision: 0.9979068633847435\n",
            "Recall: 0.9989528834658538\n",
            "F1 Score: 0.998429599455629\n",
            "NDCG: 5.254494511770453\n",
            "Fold: 2\n",
            "Epoch 1/10\n",
            "4212/4212 [==============================] - 41s 9ms/step - loss: 0.0404 - accuracy: 0.9980\n",
            "Epoch 2/10\n",
            "4212/4212 [==============================] - 38s 9ms/step - loss: 0.0156 - accuracy: 0.9990\n",
            "Epoch 3/10\n",
            "4212/4212 [==============================] - 38s 9ms/step - loss: 0.0157 - accuracy: 0.9990\n",
            "Epoch 4/10\n",
            "4212/4212 [==============================] - 38s 9ms/step - loss: 0.0156 - accuracy: 0.9990\n",
            "Epoch 5/10\n",
            "4212/4212 [==============================] - 37s 9ms/step - loss: 0.0152 - accuracy: 0.9990\n",
            "Epoch 6/10\n",
            "4212/4212 [==============================] - 39s 9ms/step - loss: 0.0151 - accuracy: 0.9990\n",
            "Epoch 7/10\n",
            "4212/4212 [==============================] - 37s 9ms/step - loss: 0.0149 - accuracy: 0.9990\n",
            "Epoch 8/10\n",
            "4212/4212 [==============================] - 38s 9ms/step - loss: 0.0148 - accuracy: 0.9990\n",
            "Epoch 9/10\n",
            "4212/4212 [==============================] - 38s 9ms/step - loss: 0.0146 - accuracy: 0.9990\n",
            "Epoch 10/10\n",
            "4212/4212 [==============================] - 37s 9ms/step - loss: 0.0145 - accuracy: 0.9990\n",
            "Fold evaluation\n",
            "33694/33694 [==============================] - 75s 2ms/step\n"
          ]
        },
        {
          "name": "stderr",
          "output_type": "stream",
          "text": [
            "/usr/local/lib/python3.10/dist-packages/sklearn/metrics/_classification.py:1344: UndefinedMetricWarning: Precision and F-score are ill-defined and being set to 0.0 in labels with no predicted samples. Use `zero_division` parameter to control this behavior.\n",
            "  _warn_prf(average, modifier, msg_start, len(result))\n",
            "/usr/local/lib/python3.10/dist-packages/sklearn/metrics/_classification.py:1344: UndefinedMetricWarning: Precision and F-score are ill-defined and being set to 0.0 in labels with no predicted samples. Use `zero_division` parameter to control this behavior.\n",
            "  _warn_prf(average, modifier, msg_start, len(result))\n"
          ]
        },
        {
          "name": "stdout",
          "output_type": "stream",
          "text": [
            "Precision: 0.9980217510311656\n",
            "Recall: 0.9990103858474974\n",
            "F1 Score: 0.9985158237264944\n",
            "NDCG: 5.254494511770453\n"
          ]
        },
        {
          "name": "stderr",
          "output_type": "stream",
          "text": [
            "/usr/local/lib/python3.10/dist-packages/sklearn/metrics/_classification.py:1344: UndefinedMetricWarning: Precision and F-score are ill-defined and being set to 0.0 in labels with no predicted samples. Use `zero_division` parameter to control this behavior.\n",
            "  _warn_prf(average, modifier, msg_start, len(result))\n"
          ]
        }
      ],
      "source": [
        "# Define the probabilistic set for each user\n",
        "probabilistic_set = {}  # A dictionary where keys are user IDs and values are lists of item IDs\n",
        "\n",
        "# Define the recommended items for each user using the model's predictions\n",
        "recommended_items = {}  # A dictionary where keys are user IDs and values are lists of recommended item IDs\n",
        "\n",
        "# Convert merged data to input and target arrays\n",
        "X = merged_df.drop(columns=['artistID'])\n",
        "y = merged_df['artistID']\n",
        "\n",
        "# Perform five-fold cross-validation\n",
        "kf = KFold(n_splits=2, shuffle=True, random_state=42)\n",
        "\n",
        "for fold, (train_index, val_index) in enumerate(kf.split(X)):\n",
        "    print(f\"Fold: {fold + 1}\")\n",
        "\n",
        "    X_train, X_val = X.iloc[train_index], X.iloc[val_index]\n",
        "    y_train, y_val = y.iloc[train_index], y.iloc[val_index]\n",
        "\n",
        "    input_shape = X_train.shape[1]\n",
        "\n",
        "    # Preprocess the data\n",
        "    X_train_encoded, y_train_encoded = preprocess_data(X_train, y_train)\n",
        "    X_val_encoded, y_val_encoded = preprocess_data(X_val, y_val)\n",
        "\n",
        "    # Convert X_train_encoded to a numpy array\n",
        "    X_train_encoded_array = X_train_encoded.values\n",
        "\n",
        "    # Train and evaluate the model for each fold\n",
        "    model = train_model(X_train_encoded_array, y_train_encoded, input_shape, num_classes)\n",
        "    print ('Fold evaluation')\n",
        "    evaluate_model(model, X_val_encoded, y_val_encoded, probabilistic_set, recommended_items, top_N=10)\n"
      ]
    },
    {
      "cell_type": "code",
      "execution_count": null,
      "metadata": {
        "colab": {
          "base_uri": "https://localhost:8080/"
        },
        "id": "MpMx7f5nda-J",
        "outputId": "a71f4581-25ab-46bb-dde1-197c79542589"
      },
      "outputs": [
        {
          "name": "stdout",
          "output_type": "stream",
          "text": [
            "Fold: 1\n",
            "Epoch 1/10\n",
            "4212/4212 [==============================] - 42s 9ms/step - loss: 0.0398 - accuracy: 0.9984\n",
            "Epoch 2/10\n",
            "4212/4212 [==============================] - 38s 9ms/step - loss: 0.0148 - accuracy: 0.9990\n",
            "Epoch 3/10\n",
            "4212/4212 [==============================] - 41s 10ms/step - loss: 0.0150 - accuracy: 0.9990\n",
            "Epoch 4/10\n",
            "4212/4212 [==============================] - 41s 10ms/step - loss: 0.0148 - accuracy: 0.9990\n",
            "Epoch 5/10\n",
            "4212/4212 [==============================] - 39s 9ms/step - loss: 0.0144 - accuracy: 0.9990\n",
            "Epoch 6/10\n",
            "4212/4212 [==============================] - 39s 9ms/step - loss: 0.0143 - accuracy: 0.9990\n",
            "Epoch 7/10\n",
            "4212/4212 [==============================] - 39s 9ms/step - loss: 0.0141 - accuracy: 0.9990\n",
            "Epoch 8/10\n",
            "4212/4212 [==============================] - 40s 9ms/step - loss: 0.0138 - accuracy: 0.9990\n",
            "Epoch 9/10\n",
            "4212/4212 [==============================] - 38s 9ms/step - loss: 0.0136 - accuracy: 0.9990\n",
            "Epoch 10/10\n",
            "4212/4212 [==============================] - 40s 9ms/step - loss: 0.0136 - accuracy: 0.9990\n",
            "Fold evaluation\n",
            "33694/33694 [==============================] - 77s 2ms/step\n"
          ]
        },
        {
          "name": "stderr",
          "output_type": "stream",
          "text": [
            "/usr/local/lib/python3.10/dist-packages/sklearn/metrics/_classification.py:1344: UndefinedMetricWarning: Precision and F-score are ill-defined and being set to 0.0 in labels with no predicted samples. Use `zero_division` parameter to control this behavior.\n",
            "  _warn_prf(average, modifier, msg_start, len(result))\n",
            "/usr/local/lib/python3.10/dist-packages/sklearn/metrics/_classification.py:1344: UndefinedMetricWarning: Precision and F-score are ill-defined and being set to 0.0 in labels with no predicted samples. Use `zero_division` parameter to control this behavior.\n",
            "  _warn_prf(average, modifier, msg_start, len(result))\n",
            "/usr/local/lib/python3.10/dist-packages/sklearn/metrics/_classification.py:1344: UndefinedMetricWarning: Precision and F-score are ill-defined and being set to 0.0 in labels with no predicted samples. Use `zero_division` parameter to control this behavior.\n",
            "  _warn_prf(average, modifier, msg_start, len(result))\n"
          ]
        },
        {
          "name": "stdout",
          "output_type": "stream",
          "text": [
            "Precision: 0.9979068633847435\n",
            "Recall: 0.9989528834658538\n",
            "F1 Score: 0.998429599455629\n",
            "NDCG: 6.611347998013799\n",
            "Fold: 2\n",
            "Epoch 1/10\n",
            "4212/4212 [==============================] - 41s 9ms/step - loss: 0.0380 - accuracy: 0.9980\n",
            "Epoch 2/10\n",
            "4212/4212 [==============================] - 38s 9ms/step - loss: 0.0155 - accuracy: 0.9990\n",
            "Epoch 3/10\n",
            "4212/4212 [==============================] - 37s 9ms/step - loss: 0.0157 - accuracy: 0.9990\n",
            "Epoch 4/10\n",
            "4212/4212 [==============================] - 37s 9ms/step - loss: 0.0155 - accuracy: 0.9990\n",
            "Epoch 5/10\n",
            "4212/4212 [==============================] - 37s 9ms/step - loss: 0.0152 - accuracy: 0.9990\n",
            "Epoch 6/10\n",
            "4212/4212 [==============================] - 37s 9ms/step - loss: 0.0149 - accuracy: 0.9990\n",
            "Epoch 7/10\n",
            "4212/4212 [==============================] - 37s 9ms/step - loss: 0.0147 - accuracy: 0.9990\n",
            "Epoch 8/10\n",
            "4212/4212 [==============================] - 37s 9ms/step - loss: 0.0145 - accuracy: 0.9990\n",
            "Epoch 9/10\n",
            "4212/4212 [==============================] - 37s 9ms/step - loss: 0.0144 - accuracy: 0.9990\n",
            "Epoch 10/10\n",
            "4212/4212 [==============================] - 37s 9ms/step - loss: 0.0144 - accuracy: 0.9990\n",
            "Fold evaluation\n",
            "33694/33694 [==============================] - 74s 2ms/step\n"
          ]
        },
        {
          "name": "stderr",
          "output_type": "stream",
          "text": [
            "/usr/local/lib/python3.10/dist-packages/sklearn/metrics/_classification.py:1344: UndefinedMetricWarning: Precision and F-score are ill-defined and being set to 0.0 in labels with no predicted samples. Use `zero_division` parameter to control this behavior.\n",
            "  _warn_prf(average, modifier, msg_start, len(result))\n",
            "/usr/local/lib/python3.10/dist-packages/sklearn/metrics/_classification.py:1344: UndefinedMetricWarning: Precision and F-score are ill-defined and being set to 0.0 in labels with no predicted samples. Use `zero_division` parameter to control this behavior.\n",
            "  _warn_prf(average, modifier, msg_start, len(result))\n"
          ]
        },
        {
          "name": "stdout",
          "output_type": "stream",
          "text": [
            "Precision: 0.9980217510311656\n",
            "Recall: 0.9990103858474974\n",
            "F1 Score: 0.9985158237264944\n",
            "NDCG: 6.611347998013799\n"
          ]
        },
        {
          "name": "stderr",
          "output_type": "stream",
          "text": [
            "/usr/local/lib/python3.10/dist-packages/sklearn/metrics/_classification.py:1344: UndefinedMetricWarning: Precision and F-score are ill-defined and being set to 0.0 in labels with no predicted samples. Use `zero_division` parameter to control this behavior.\n",
            "  _warn_prf(average, modifier, msg_start, len(result))\n"
          ]
        }
      ],
      "source": [
        "# Define the probabilistic set for each user\n",
        "probabilistic_set = {}  # A dictionary where keys are user IDs and values are lists of item IDs\n",
        "\n",
        "# Define the recommended items for each user using the model's predictions\n",
        "recommended_items = {}  # A dictionary where keys are user IDs and values are lists of recommended item IDs\n",
        "\n",
        "# Convert merged data to input and target arrays\n",
        "X = merged_df.drop(columns=['artistID'])\n",
        "y = merged_df['artistID']\n",
        "\n",
        "# Perform five-fold cross-validation\n",
        "kf = KFold(n_splits=2, shuffle=True, random_state=42)\n",
        "\n",
        "for fold, (train_index, val_index) in enumerate(kf.split(X)):\n",
        "    print(f\"Fold: {fold + 1}\")\n",
        "\n",
        "    X_train, X_val = X.iloc[train_index], X.iloc[val_index]\n",
        "    y_train, y_val = y.iloc[train_index], y.iloc[val_index]\n",
        "\n",
        "    input_shape = X_train.shape[1]\n",
        "\n",
        "    # Preprocess the data\n",
        "    X_train_encoded, y_train_encoded = preprocess_data(X_train, y_train)\n",
        "    X_val_encoded, y_val_encoded = preprocess_data(X_val, y_val)\n",
        "\n",
        "    # Convert X_train_encoded to a numpy array\n",
        "    X_train_encoded_array = X_train_encoded.values\n",
        "\n",
        "    # Train and evaluate the model for each fold\n",
        "    model = train_model(X_train_encoded_array, y_train_encoded, input_shape, num_classes)\n",
        "    print ('Fold evaluation')\n",
        "    evaluate_model(model, X_val_encoded, y_val_encoded, probabilistic_set, recommended_items, top_N=15)\n"
      ]
    }
  ],
  "metadata": {
    "accelerator": "GPU",
    "colab": {
      "machine_shape": "hm",
      "provenance": [],
      "authorship_tag": "ABX9TyME681vScHOi9SkKF6EyEeO",
      "include_colab_link": true
    },
    "kernelspec": {
      "display_name": "Python 3",
      "name": "python3"
    },
    "language_info": {
      "name": "python"
    }
  },
  "nbformat": 4,
  "nbformat_minor": 0
}